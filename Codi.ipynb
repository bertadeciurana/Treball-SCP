{
  "metadata": {
    "language_info": {
      "codemirror_mode": {
        "name": "python",
        "version": 3
      },
      "file_extension": ".py",
      "mimetype": "text/x-python",
      "name": "python",
      "nbconvert_exporter": "python",
      "pygments_lexer": "ipython3",
      "version": "3.8"
    },
    "kernelspec": {
      "name": "python",
      "display_name": "Python (Pyodide)",
      "language": "python"
    }
  },
  "nbformat_minor": 4,
  "nbformat": 4,
  "cells": [
    {
      "cell_type": "code",
      "source": "#EXERCICI 7. Fer una funció qe faci el producte de dues matrius\n\ndef producte (m1,m2):\n    m = len(m1)\n    n1 = len(m1[0])\n    n2 = len (m2)\n    l = len (m2[0])\n\n    if n1 == n2:\n        n = n1\n        mat=[]\n        for i in range (m):\n            mat.append ([])\n            for j in range (l):\n                mat[i].append(None)\n        for i in range (m):\n            for j in range (l) :\n                res = 0\n                for k in range (n) :\n                    res = res + ((int(m1 [i][k]))* int(m2[k][j]))\n                mat [i][j] = res   \n        return mat\n    else:\n        return None",
      "metadata": {
        "trusted": true
      },
      "execution_count": 1,
      "outputs": []
    }
  ]
}